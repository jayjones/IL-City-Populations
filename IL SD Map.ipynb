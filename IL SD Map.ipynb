{
 "cells": [
  {
   "cell_type": "markdown",
   "metadata": {},
   "source": [
    "    These are the libraries I'm using"
   ]
  },
  {
   "cell_type": "code",
   "execution_count": 1,
   "metadata": {
    "scrolled": true
   },
   "outputs": [
    {
     "data": {
      "text/plain": [
       "u'0.20.1'"
      ]
     },
     "execution_count": 1,
     "metadata": {},
     "output_type": "execute_result"
    }
   ],
   "source": [
    "import pandas as pd\n",
    "import json\n",
    "import plotly.plotly as py\n",
    "import plotly.graph_objs as go\n",
    "\n",
    "pd.__version__"
   ]
  },
  {
   "cell_type": "markdown",
   "metadata": {},
   "source": [
    "    Reading in the data"
   ]
  },
  {
   "cell_type": "code",
   "execution_count": 15,
   "metadata": {
    "collapsed": true
   },
   "outputs": [],
   "source": [
    "df = pd.read_csv(\"City Populations.csv\")\n",
    "\n",
    "with open(\"IL Cities.geojson\") as f:\n",
    "    cities = json.load(f)"
   ]
  },
  {
   "cell_type": "markdown",
   "metadata": {},
   "source": [
    "    Creating a dictionary of Key = City Name; Value = Geographical Data\n",
    "    This will print out the number of cities that do not translate."
   ]
  },
  {
   "cell_type": "code",
   "execution_count": 22,
   "metadata": {
    "scrolled": true
   },
   "outputs": [
    {
     "name": "stdout",
     "output_type": "stream",
     "text": [
      "Not in: 389\n"
     ]
    }
   ],
   "source": [
    "geo_dict = {}\n",
    "not_in = 0\n",
    "\n",
    "for i in range(len(cities['features'])):\n",
    "    name = cities['features'][i]['properties']['name'][:-4]\n",
    "    if name in df[\"City\"].unique():\n",
    "        geo_dict[name] = cities['features'][i]\n",
    "    else:\n",
    "        not_in += 1\n",
    "print \"Not in:\", not_in"
   ]
  },
  {
   "cell_type": "code",
   "execution_count": 4,
   "metadata": {
    "collapsed": true
   },
   "outputs": [],
   "source": [
    "ser = pd.Series(geo_dict.values(), index = geo_dict.keys())\n",
    "ser.name = \"Location\""
   ]
  },
  {
   "cell_type": "code",
   "execution_count": 5,
   "metadata": {
    "collapsed": true,
    "scrolled": true
   },
   "outputs": [],
   "source": [
    "df = df.join(ser, on=\"City\")\n",
    "df = df.drop(df.index[0])"
   ]
  },
  {
   "cell_type": "markdown",
   "metadata": {},
   "source": [
    "    Adding the color scheme"
   ]
  },
  {
   "cell_type": "code",
   "execution_count": 6,
   "metadata": {},
   "outputs": [
    {
     "name": "stdout",
     "output_type": "stream",
     "text": [
      "{0: '#ffffe0', 1: '#fffddb', 2: '#fffad7', 3: '#fff7d1', 4: '#fff5cd', 5: '#fff2c8', 6: '#fff0c4', 7: '#ffedbf', 8: '#ffebba', 9: '#ffe9b7', 10: '#ffe5b2', 11: '#ffe3af', 12: '#ffe0ab', 13: '#ffdda7', 14: '#ffdba4', 15: '#ffd9a0', 16: '#ffd69c', 17: '#ffd399', 18: '#ffd196', 19: '#ffcd93', 20: '#ffca90', 21: '#ffc88d', 22: '#ffc58a', 23: '#ffc288', 24: '#ffbf86', 25: '#ffbd83', 26: '#ffb981', 27: '#ffb67f', 28: '#ffb47d', 29: '#ffb17b', 30: '#ffad79', 31: '#ffaa77', 32: '#ffa775', 33: '#ffa474', 34: '#ffa172', 35: '#ff9e70', 36: '#ff9b6f', 37: '#ff986e', 38: '#ff956c', 39: '#fe916b', 40: '#fe8f6a', 41: '#fd8b69', 42: '#fc8868', 43: '#fb8567', 44: '#fa8266', 45: '#f98065', 46: '#f87d64', 47: '#f77a63', 48: '#f67862', 49: '#f57562', 50: '#f37261', 51: '#f37060', 52: '#f16c5f', 53: '#f0695e', 54: '#ee665d', 55: '#ed645c', 56: '#ec615b', 57: '#ea5e5b', 58: '#e85b59', 59: '#e75859', 60: '#e55658', 61: '#e45356', 62: '#e35056', 63: '#e14d54', 64: '#df4a53', 65: '#dd4852', 66: '#db4551', 67: '#d9434f', 68: '#d8404e', 69: '#d53d4d', 70: '#d43b4b', 71: '#d2384a', 72: '#cf3548', 73: '#cd3346', 74: '#cc3045', 75: '#ca2e43', 76: '#c72b42', 77: '#c52940', 78: '#c2263d', 79: '#c0233c', 80: '#be213a', 81: '#bb1e37', 82: '#ba1c35', 83: '#b71933', 84: '#b41731', 85: '#b2152e', 86: '#b0122c', 87: '#ac1029', 88: '#aa0e27', 89: '#a70b24', 90: '#a40921', 91: '#a2071f', 92: '#a0051c', 93: '#9d0419', 94: '#990215', 95: '#970212', 96: '#94010e', 97: '#91000a', 98: '#8e0006', 99: '#8b0000', 100: '#8b0000'}\n"
     ]
    }
   ],
   "source": [
    "colors = ['#ffffe0','#fffddb','#fffad7','#fff7d1','#fff5cd','#fff2c8',\n",
    "          '#fff0c4','#ffedbf','#ffebba','#ffe9b7','#ffe5b2','#ffe3af',\n",
    "          '#ffe0ab','#ffdda7','#ffdba4','#ffd9a0','#ffd69c','#ffd399',\n",
    "          '#ffd196','#ffcd93','#ffca90','#ffc88d','#ffc58a','#ffc288',\n",
    "          '#ffbf86','#ffbd83','#ffb981','#ffb67f','#ffb47d','#ffb17b',\n",
    "          '#ffad79','#ffaa77','#ffa775','#ffa474','#ffa172','#ff9e70',\n",
    "          '#ff9b6f','#ff986e','#ff956c','#fe916b','#fe8f6a','#fd8b69',\n",
    "          '#fc8868','#fb8567','#fa8266','#f98065','#f87d64','#f77a63',\n",
    "          '#f67862','#f57562','#f37261','#f37060','#f16c5f','#f0695e',\n",
    "          '#ee665d','#ed645c','#ec615b','#ea5e5b','#e85b59','#e75859',\n",
    "          '#e55658','#e45356','#e35056','#e14d54','#df4a53','#dd4852',\n",
    "          '#db4551','#d9434f','#d8404e','#d53d4d','#d43b4b','#d2384a',\n",
    "          '#cf3548','#cd3346','#cc3045','#ca2e43','#c72b42','#c52940',\n",
    "          '#c2263d','#c0233c','#be213a','#bb1e37','#ba1c35','#b71933',\n",
    "          '#b41731','#b2152e','#b0122c','#ac1029','#aa0e27','#a70b24',\n",
    "          '#a40921','#a2071f','#a0051c','#9d0419','#990215','#970212',\n",
    "          '#94010e','#91000a','#8e0006','#8b0000', '#8b0000']\n",
    "\n",
    "scl = dict(zip(range(0, 101), colors))"
   ]
  },
  {
   "cell_type": "markdown",
   "metadata": {},
   "source": [
    "    Adding the color \"value\" to the dataframe"
   ]
  },
  {
   "cell_type": "code",
   "execution_count": 7,
   "metadata": {
    "collapsed": true
   },
   "outputs": [
    {
     "name": "stdout",
     "output_type": "stream",
     "text": [
      "                                      City  Population  \\\n",
      "1                                   Aurora      200661   \n",
      "2                                 Rockford      148278   \n",
      "3                                   Joliet      147861   \n",
      "4                               Naperville      147100   \n",
      "5                              Springfield      116565   \n",
      "6                                   Peoria      115070   \n",
      "7                                    Elgin      112111   \n",
      "8                                 Waukegan       88475   \n",
      "9                                Champaign       86096   \n",
      "10                                  Cicero       83886   \n",
      "11                             Bloomington       78292   \n",
      "12                       Arlington Heights       75926   \n",
      "13                                Evanston       75527   \n",
      "14                              Schaumburg       74693   \n",
      "15                             Bolingbrook       74306   \n",
      "16                                 Decatur       73254   \n",
      "17                                Palatine       69308   \n",
      "18                                  Skokie       64821   \n",
      "19                             Des Plaines       58677   \n",
      "20                             Orland Park       58619   \n",
      "21                             Tinley Park       57143   \n",
      "22                                Oak Lawn       56781   \n",
      "23                                  Berwyn       56368   \n",
      "24                          Mount Prospect       54747   \n",
      "25                                  Normal       54373   \n",
      "26                                 Wheaton       53715   \n",
      "27                                Oak Park       52287   \n",
      "28                         Hoffman Estates       52138   \n",
      "29                           Downers Grove       49732   \n",
      "30                                Glenview       47446   \n",
      "...                                    ...         ...   \n",
      "1114                            Mount Erie          87   \n",
      "1115                                  Yale          86   \n",
      "1116                                Ripley          85   \n",
      "1117                               Bingham          83   \n",
      "1118                    Keenes and Adeline          82   \n",
      "1119    Hollowayville, Detroit, and Camden          81   \n",
      "1120                             Rose Hill          80   \n",
      "1121              El Dara and Johnsonville          76   \n",
      "1122        Topeka, New Bedford, and Irwin          72   \n",
      "1123                                Beason          70   \n",
      "1124                                 Muddy          69   \n",
      "1125                           Golden Gate          68   \n",
      "1126                            Mill Creek          63   \n",
      "1127     Macedonia, Exeter, and Walshville          62   \n",
      "1128                               Simpson          60   \n",
      "1129                                Sciota          59   \n",
      "1130                            Union Hill          57   \n",
      "1131                    Belle Prairie City          53   \n",
      "1132  Gulf Port, Burnt Prairie, and Panola          51   \n",
      "1133                              Cornland          50   \n",
      "1134             Deer Grove and La Prairie          47   \n",
      "1135                          Phillipstown          43   \n",
      "1136                              Rockwood          41   \n",
      "1137                             Annapolis          40   \n",
      "1138                              Florence          37   \n",
      "1139                 Paderborn and Wenonah          36   \n",
      "1140                               Bentley          34   \n",
      "1141                                 Fults          26   \n",
      "1142                                  Time          22   \n",
      "1143             Kaskaskia and Valley City          13   \n",
      "\n",
      "                                               Location    Color  \n",
      "1     {u'geometry': {u'type': u'MultiPolygon', u'coo...  #ffca90  \n",
      "2     {u'geometry': {u'type': u'MultiPolygon', u'coo...  #ffdba4  \n",
      "3     {u'geometry': {u'type': u'MultiPolygon', u'coo...  #ffdba4  \n",
      "4     {u'geometry': {u'type': u'MultiPolygon', u'coo...  #ffdba4  \n",
      "5     {u'geometry': {u'type': u'MultiPolygon', u'coo...  #ffe3af  \n",
      "6     {u'geometry': {u'type': u'MultiPolygon', u'coo...  #ffe3af  \n",
      "7     {u'geometry': {u'type': u'MultiPolygon', u'coo...  #ffe3af  \n",
      "8     {u'geometry': {u'type': u'MultiPolygon', u'coo...  #ffebba  \n",
      "9     {u'geometry': {u'type': u'MultiPolygon', u'coo...  #ffebba  \n",
      "10    {u'geometry': {u'type': u'MultiPolygon', u'coo...  #ffebba  \n",
      "11    {u'geometry': {u'type': u'MultiPolygon', u'coo...  #ffedbf  \n",
      "12    {u'geometry': {u'type': u'MultiPolygon', u'coo...  #ffedbf  \n",
      "13    {u'geometry': {u'type': u'MultiPolygon', u'coo...  #ffedbf  \n",
      "14    {u'geometry': {u'type': u'MultiPolygon', u'coo...  #ffedbf  \n",
      "15    {u'geometry': {u'type': u'MultiPolygon', u'coo...  #ffedbf  \n",
      "16    {u'geometry': {u'type': u'MultiPolygon', u'coo...  #ffedbf  \n",
      "17    {u'geometry': {u'type': u'MultiPolygon', u'coo...  #fff0c4  \n",
      "18    {u'geometry': {u'type': u'MultiPolygon', u'coo...  #fff0c4  \n",
      "19    {u'geometry': {u'type': u'MultiPolygon', u'coo...  #fff2c8  \n",
      "20    {u'geometry': {u'type': u'MultiPolygon', u'coo...  #fff2c8  \n",
      "21    {u'geometry': {u'type': u'MultiPolygon', u'coo...  #fff2c8  \n",
      "22    {u'geometry': {u'type': u'MultiPolygon', u'coo...  #fff2c8  \n",
      "23    {u'geometry': {u'type': u'MultiPolygon', u'coo...  #fff2c8  \n",
      "24    {u'geometry': {u'type': u'MultiPolygon', u'coo...  #fff2c8  \n",
      "25    {u'geometry': {u'type': u'MultiPolygon', u'coo...  #fff2c8  \n",
      "26    {u'geometry': {u'type': u'MultiPolygon', u'coo...  #fff2c8  \n",
      "27    {u'geometry': {u'type': u'MultiPolygon', u'coo...  #fff2c8  \n",
      "28    {u'geometry': {u'type': u'MultiPolygon', u'coo...  #fff2c8  \n",
      "29    {u'geometry': {u'type': u'MultiPolygon', u'coo...  #fff5cd  \n",
      "30    {u'geometry': {u'type': u'MultiPolygon', u'coo...  #fff5cd  \n",
      "...                                                 ...      ...  \n",
      "1114  {u'geometry': {u'type': u'MultiPolygon', u'coo...  #ffffe0  \n",
      "1115  {u'geometry': {u'type': u'MultiPolygon', u'coo...  #ffffe0  \n",
      "1116  {u'geometry': {u'type': u'MultiPolygon', u'coo...  #ffffe0  \n",
      "1117  {u'geometry': {u'type': u'MultiPolygon', u'coo...  #ffffe0  \n",
      "1118                                                NaN  #ffffe0  \n",
      "1119                                                NaN  #ffffe0  \n",
      "1120  {u'geometry': {u'type': u'MultiPolygon', u'coo...  #ffffe0  \n",
      "1121                                                NaN  #ffffe0  \n",
      "1122                                                NaN  #ffffe0  \n",
      "1123  {u'geometry': {u'type': u'MultiPolygon', u'coo...  #ffffe0  \n",
      "1124  {u'geometry': {u'type': u'MultiPolygon', u'coo...  #ffffe0  \n",
      "1125  {u'geometry': {u'type': u'MultiPolygon', u'coo...  #ffffe0  \n",
      "1126  {u'geometry': {u'type': u'MultiPolygon', u'coo...  #ffffe0  \n",
      "1127                                                NaN  #ffffe0  \n",
      "1128  {u'geometry': {u'type': u'MultiPolygon', u'coo...  #ffffe0  \n",
      "1129  {u'geometry': {u'type': u'MultiPolygon', u'coo...  #ffffe0  \n",
      "1130  {u'geometry': {u'type': u'MultiPolygon', u'coo...  #ffffe0  \n",
      "1131  {u'geometry': {u'type': u'MultiPolygon', u'coo...  #ffffe0  \n",
      "1132                                                NaN  #ffffe0  \n",
      "1133  {u'geometry': {u'type': u'MultiPolygon', u'coo...  #ffffe0  \n",
      "1134                                                NaN  #ffffe0  \n",
      "1135  {u'geometry': {u'type': u'MultiPolygon', u'coo...  #ffffe0  \n",
      "1136  {u'geometry': {u'type': u'MultiPolygon', u'coo...  #ffffe0  \n",
      "1137  {u'geometry': {u'type': u'MultiPolygon', u'coo...  #ffffe0  \n",
      "1138  {u'geometry': {u'type': u'MultiPolygon', u'coo...  #ffffe0  \n",
      "1139                                                NaN  #ffffe0  \n",
      "1140  {u'geometry': {u'type': u'MultiPolygon', u'coo...  #ffffe0  \n",
      "1141  {u'geometry': {u'type': u'MultiPolygon', u'coo...  #ffffe0  \n",
      "1142  {u'geometry': {u'type': u'MultiPolygon', u'coo...  #ffffe0  \n",
      "1143                                                NaN  #ffffe0  \n",
      "\n",
      "[1143 rows x 4 columns]\n"
     ]
    }
   ],
   "source": [
    "def get_scl(obj):\n",
    "    frac = obj / 10000\n",
    "    return scl[frac]\n",
    "\n",
    "df['Color'] = df['Population'].apply(get_scl)"
   ]
  },
  {
   "cell_type": "markdown",
   "metadata": {},
   "source": [
    "    This seems to be the issue. Data is in layers?"
   ]
  },
  {
   "cell_type": "code",
   "execution_count": 8,
   "metadata": {},
   "outputs": [
    {
     "name": "stderr",
     "output_type": "stream",
     "text": [
      "IOPub data rate exceeded.\n",
      "The notebook server will temporarily stop sending output\n",
      "to the client in order to avoid crashing it.\n",
      "To change this limit, set the config variable\n",
      "`--NotebookApp.iopub_data_rate_limit`.\n"
     ]
    }
   ],
   "source": [
    "layers_ls = []\n",
    "for i in df.index:\n",
    "    item_dict = dict(sourcetype = 'geojson',\n",
    "                     source = df.loc[i]['Location'],\n",
    "                     type = 'fill',\n",
    "                     color = df.loc[i]['Color'])\n",
    "    layers_ls.append(item_dict)"
   ]
  },
  {
   "cell_type": "code",
   "execution_count": 9,
   "metadata": {
    "collapsed": true
   },
   "outputs": [],
   "source": [
    "mapbox_access_token = \"pk.eyJ1Ijoiam9uZXNqcDYiLCJhIjoiY2ozcWc1aTY2MDFlZDMzbnVpa3hiN2I2ZSJ9.CdLfET8OqcoZkCUVVeplwg\""
   ]
  },
  {
   "cell_type": "code",
   "execution_count": 10,
   "metadata": {
    "collapsed": true
   },
   "outputs": [],
   "source": [
    "colorscl = [[i * .01, v] for i,v in enumerate(colors)]"
   ]
  },
  {
   "cell_type": "code",
   "execution_count": 11,
   "metadata": {
    "collapsed": true
   },
   "outputs": [],
   "source": [
    "data = go.Data([\n",
    "            go.Scattermapbox(\n",
    "                    lat = [0],\n",
    "                    lon = [0],\n",
    "                    marker = go.Marker(\n",
    "                                  cmax=101,\n",
    "                                  cmin=0,\n",
    "                                  colorscale = colorscl,\n",
    "                                  showscale = True,\n",
    "                                  autocolorscale=False,\n",
    "                                  color=range(0,101),\n",
    "                                  colorbar= go.ColorBar(\n",
    "                                                 len = .89\n",
    "                                                        )\n",
    "                                       ),\n",
    "                    mode = 'markers')\n",
    "                     ])"
   ]
  },
  {
   "cell_type": "code",
   "execution_count": 12,
   "metadata": {
    "collapsed": true,
    "scrolled": true
   },
   "outputs": [],
   "source": [
    "layout = go.Layout(\n",
    "    title = 'City Populations',\n",
    "    height=1050,\n",
    "    width=800,\n",
    "    autosize=True,\n",
    "    hovermode='closest',\n",
    "    mapbox=dict(\n",
    "        layers= layers_ls,\n",
    "        accesstoken=mapbox_access_token,\n",
    "        bearing=0,\n",
    "        center=dict(\n",
    "            lat=39.03,\n",
    "            lon=-105.7\n",
    "        ),\n",
    "        pitch=0,\n",
    "        zoom=5.5,\n",
    "        style='light'\n",
    "    ),\n",
    ")"
   ]
  },
  {
   "cell_type": "code",
   "execution_count": 13,
   "metadata": {
    "scrolled": false
   },
   "outputs": [
    {
     "ename": "PlotlyRequestError",
     "evalue": "\n<html><head>\n<meta http-equiv=\"content-type\" content=\"text/html;charset=utf-8\">\n<title>502 Server Error</title>\n</head>\n<body text=#000000 bgcolor=#ffffff>\n<h1>Error: Server Error</h1>\n<h2>The server encountered a temporary error and could not complete your request.<p>Please try again in 30 seconds.</h2>\n<h2></h2>\n</body></html>\n",
     "output_type": "error",
     "traceback": [
      "\u001b[0;31m---------------------------------------------------------------------------\u001b[0m",
      "\u001b[0;31mPlotlyRequestError\u001b[0m                        Traceback (most recent call last)",
      "\u001b[0;32m<ipython-input-13-62422dcdfb59>\u001b[0m in \u001b[0;36m<module>\u001b[0;34m()\u001b[0m\n\u001b[1;32m      1\u001b[0m \u001b[0mfig\u001b[0m \u001b[0;34m=\u001b[0m \u001b[0mdict\u001b[0m\u001b[0;34m(\u001b[0m\u001b[0mdata\u001b[0m \u001b[0;34m=\u001b[0m \u001b[0mdata\u001b[0m\u001b[0;34m,\u001b[0m \u001b[0mlayout\u001b[0m\u001b[0;34m=\u001b[0m\u001b[0mlayout\u001b[0m\u001b[0;34m)\u001b[0m\u001b[0;34m\u001b[0m\u001b[0m\n\u001b[1;32m      2\u001b[0m py.image.save_as(fig, filename='image/test.jpeg',\n\u001b[0;32m----> 3\u001b[0;31m                  width = 750, height= 575)\n\u001b[0m\u001b[1;32m      4\u001b[0m \u001b[0;32mfrom\u001b[0m \u001b[0mIPython\u001b[0m\u001b[0;34m.\u001b[0m\u001b[0mdisplay\u001b[0m \u001b[0;32mimport\u001b[0m \u001b[0mImage\u001b[0m\u001b[0;34m\u001b[0m\u001b[0m\n\u001b[1;32m      5\u001b[0m \u001b[0mImage\u001b[0m\u001b[0;34m(\u001b[0m\u001b[0;34m'image/test.jpeg'\u001b[0m\u001b[0;34m)\u001b[0m\u001b[0;34m\u001b[0m\u001b[0m\n",
      "\u001b[0;32m/anaconda/envs/python27/lib/python2.7/site-packages/plotly/plotly/plotly.pyc\u001b[0m in \u001b[0;36msave_as\u001b[0;34m(cls, figure_or_data, filename, format, width, height, scale)\u001b[0m\n\u001b[1;32m    829\u001b[0m             \u001b[0mfilename\u001b[0m \u001b[0;34m+=\u001b[0m \u001b[0;34m'.'\u001b[0m \u001b[0;34m+\u001b[0m \u001b[0mformat\u001b[0m\u001b[0;34m\u001b[0m\u001b[0m\n\u001b[1;32m    830\u001b[0m \u001b[0;34m\u001b[0m\u001b[0m\n\u001b[0;32m--> 831\u001b[0;31m         \u001b[0mimg\u001b[0m \u001b[0;34m=\u001b[0m \u001b[0mcls\u001b[0m\u001b[0;34m.\u001b[0m\u001b[0mget\u001b[0m\u001b[0;34m(\u001b[0m\u001b[0mfigure_or_data\u001b[0m\u001b[0;34m,\u001b[0m \u001b[0mformat\u001b[0m\u001b[0;34m,\u001b[0m \u001b[0mwidth\u001b[0m\u001b[0;34m,\u001b[0m \u001b[0mheight\u001b[0m\u001b[0;34m,\u001b[0m \u001b[0mscale\u001b[0m\u001b[0;34m)\u001b[0m\u001b[0;34m\u001b[0m\u001b[0m\n\u001b[0m\u001b[1;32m    832\u001b[0m \u001b[0;34m\u001b[0m\u001b[0m\n\u001b[1;32m    833\u001b[0m         \u001b[0mf\u001b[0m \u001b[0;34m=\u001b[0m \u001b[0mopen\u001b[0m\u001b[0;34m(\u001b[0m\u001b[0mfilename\u001b[0m\u001b[0;34m,\u001b[0m \u001b[0;34m'wb'\u001b[0m\u001b[0;34m)\u001b[0m\u001b[0;34m\u001b[0m\u001b[0m\n",
      "\u001b[0;32m/anaconda/envs/python27/lib/python2.7/site-packages/plotly/plotly/plotly.pyc\u001b[0m in \u001b[0;36mget\u001b[0;34m(figure_or_data, format, width, height, scale)\u001b[0m\n\u001b[1;32m    742\u001b[0m             \u001b[0mpayload\u001b[0m\u001b[0;34m[\u001b[0m\u001b[0;34m'scale'\u001b[0m\u001b[0;34m]\u001b[0m \u001b[0;34m=\u001b[0m \u001b[0mscale\u001b[0m\u001b[0;34m\u001b[0m\u001b[0m\n\u001b[1;32m    743\u001b[0m \u001b[0;34m\u001b[0m\u001b[0m\n\u001b[0;32m--> 744\u001b[0;31m         \u001b[0mresponse\u001b[0m \u001b[0;34m=\u001b[0m \u001b[0mv2\u001b[0m\u001b[0;34m.\u001b[0m\u001b[0mimages\u001b[0m\u001b[0;34m.\u001b[0m\u001b[0mcreate\u001b[0m\u001b[0;34m(\u001b[0m\u001b[0mpayload\u001b[0m\u001b[0;34m)\u001b[0m\u001b[0;34m\u001b[0m\u001b[0m\n\u001b[0m\u001b[1;32m    745\u001b[0m \u001b[0;34m\u001b[0m\u001b[0m\n\u001b[1;32m    746\u001b[0m         \u001b[0mheaders\u001b[0m \u001b[0;34m=\u001b[0m \u001b[0mresponse\u001b[0m\u001b[0;34m.\u001b[0m\u001b[0mheaders\u001b[0m\u001b[0;34m\u001b[0m\u001b[0m\n",
      "\u001b[0;32m/anaconda/envs/python27/lib/python2.7/site-packages/plotly/api/v2/images.pyc\u001b[0m in \u001b[0;36mcreate\u001b[0;34m(body)\u001b[0m\n\u001b[1;32m     16\u001b[0m     \"\"\"\n\u001b[1;32m     17\u001b[0m     \u001b[0murl\u001b[0m \u001b[0;34m=\u001b[0m \u001b[0mbuild_url\u001b[0m\u001b[0;34m(\u001b[0m\u001b[0mRESOURCE\u001b[0m\u001b[0;34m)\u001b[0m\u001b[0;34m\u001b[0m\u001b[0m\n\u001b[0;32m---> 18\u001b[0;31m     \u001b[0;32mreturn\u001b[0m \u001b[0mrequest\u001b[0m\u001b[0;34m(\u001b[0m\u001b[0;34m'post'\u001b[0m\u001b[0;34m,\u001b[0m \u001b[0murl\u001b[0m\u001b[0;34m,\u001b[0m \u001b[0mjson\u001b[0m\u001b[0;34m=\u001b[0m\u001b[0mbody\u001b[0m\u001b[0;34m)\u001b[0m\u001b[0;34m\u001b[0m\u001b[0m\n\u001b[0m",
      "\u001b[0;32m/anaconda/envs/python27/lib/python2.7/site-packages/plotly/api/v2/utils.pyc\u001b[0m in \u001b[0;36mrequest\u001b[0;34m(method, url, **kwargs)\u001b[0m\n\u001b[1;32m    151\u001b[0m         \u001b[0mcontent\u001b[0m \u001b[0;34m=\u001b[0m \u001b[0mresponse\u001b[0m\u001b[0;34m.\u001b[0m\u001b[0mcontent\u001b[0m \u001b[0;32mif\u001b[0m \u001b[0mresponse\u001b[0m \u001b[0;32melse\u001b[0m \u001b[0;34m'No content'\u001b[0m\u001b[0;34m\u001b[0m\u001b[0m\n\u001b[1;32m    152\u001b[0m         \u001b[0;32mraise\u001b[0m \u001b[0mexceptions\u001b[0m\u001b[0;34m.\u001b[0m\u001b[0mPlotlyRequestError\u001b[0m\u001b[0;34m(\u001b[0m\u001b[0mmessage\u001b[0m\u001b[0;34m,\u001b[0m \u001b[0mstatus_code\u001b[0m\u001b[0;34m,\u001b[0m \u001b[0mcontent\u001b[0m\u001b[0;34m)\u001b[0m\u001b[0;34m\u001b[0m\u001b[0m\n\u001b[0;32m--> 153\u001b[0;31m     \u001b[0mvalidate_response\u001b[0m\u001b[0;34m(\u001b[0m\u001b[0mresponse\u001b[0m\u001b[0;34m)\u001b[0m\u001b[0;34m\u001b[0m\u001b[0m\n\u001b[0m\u001b[1;32m    154\u001b[0m     \u001b[0;32mreturn\u001b[0m \u001b[0mresponse\u001b[0m\u001b[0;34m\u001b[0m\u001b[0m\n",
      "\u001b[0;32m/anaconda/envs/python27/lib/python2.7/site-packages/plotly/api/v2/utils.pyc\u001b[0m in \u001b[0;36mvalidate_response\u001b[0;34m(response)\u001b[0m\n\u001b[1;32m     67\u001b[0m     \u001b[0;32mexcept\u001b[0m \u001b[0mValueError\u001b[0m\u001b[0;34m:\u001b[0m\u001b[0;34m\u001b[0m\u001b[0m\n\u001b[1;32m     68\u001b[0m         \u001b[0mmessage\u001b[0m \u001b[0;34m=\u001b[0m \u001b[0mcontent\u001b[0m \u001b[0;32mif\u001b[0m \u001b[0mcontent\u001b[0m \u001b[0;32melse\u001b[0m \u001b[0;34m'No Content'\u001b[0m\u001b[0;34m\u001b[0m\u001b[0m\n\u001b[0;32m---> 69\u001b[0;31m         \u001b[0;32mraise\u001b[0m \u001b[0mexceptions\u001b[0m\u001b[0;34m.\u001b[0m\u001b[0mPlotlyRequestError\u001b[0m\u001b[0;34m(\u001b[0m\u001b[0mmessage\u001b[0m\u001b[0;34m,\u001b[0m \u001b[0mstatus_code\u001b[0m\u001b[0;34m,\u001b[0m \u001b[0mcontent\u001b[0m\u001b[0;34m)\u001b[0m\u001b[0;34m\u001b[0m\u001b[0m\n\u001b[0m\u001b[1;32m     70\u001b[0m \u001b[0;34m\u001b[0m\u001b[0m\n\u001b[1;32m     71\u001b[0m     \u001b[0mmessage\u001b[0m \u001b[0;34m=\u001b[0m \u001b[0;34m''\u001b[0m\u001b[0;34m\u001b[0m\u001b[0m\n",
      "\u001b[0;31mPlotlyRequestError\u001b[0m: \n<html><head>\n<meta http-equiv=\"content-type\" content=\"text/html;charset=utf-8\">\n<title>502 Server Error</title>\n</head>\n<body text=#000000 bgcolor=#ffffff>\n<h1>Error: Server Error</h1>\n<h2>The server encountered a temporary error and could not complete your request.<p>Please try again in 30 seconds.</h2>\n<h2></h2>\n</body></html>\n"
     ]
    }
   ],
   "source": [
    "fig = dict(data = data, layout=layout)\n",
    "py.image.save_as(fig, filename='image/test.jpeg',\n",
    "                 width = 750, height= 575)\n",
    "from IPython.display import Image\n",
    "Image('image/test.jpeg')\n",
    "\n",
    "py.image.ishow(\"image/test.jpeg\")"
   ]
  }
 ],
 "metadata": {
  "kernelspec": {
   "display_name": "Python 2",
   "language": "python",
   "name": "python2"
  },
  "language_info": {
   "codemirror_mode": {
    "name": "ipython",
    "version": 2
   },
   "file_extension": ".py",
   "mimetype": "text/x-python",
   "name": "python",
   "nbconvert_exporter": "python",
   "pygments_lexer": "ipython2",
   "version": "2.7.13"
  }
 },
 "nbformat": 4,
 "nbformat_minor": 2
}
